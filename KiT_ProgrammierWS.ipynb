{
  "nbformat": 4,
  "nbformat_minor": 0,
  "metadata": {
    "colab": {
      "name": "KiT_ProgrammierWS_TeilnehmerInnenVersion.ipynb",
      "provenance": [],
      "collapsed_sections": []
    },
    "kernelspec": {
      "name": "python3",
      "display_name": "Python 3"
    }
  },
  "cells": [
    {
      "cell_type": "markdown",
      "metadata": {
        "id": "2lwcAzrleNhw"
      },
      "source": [
        "# Programmier-Tutorial\n",
        "\n",
        "\n",
        "\n",
        "* Warum Programmieren \n",
        "* \"Lego-Steinchen\" nutzen\n",
        "* Fehler machen ist wichtig!\n",
        "* Was ist Jupyter Notebook und wie benutze ich es?\n",
        "\n"
      ]
    },
    {
      "cell_type": "markdown",
      "metadata": {
        "id": "S7U1l6MKxFiS"
      },
      "source": [
        "# 1. Print \n",
        "\n",
        "Unsere erste Zeile Code: wir lassen uns einen Text ausgeben!\n",
        "\n",
        "```\n",
        "print(\"Hello World\")\n",
        " ```\n",
        "\n",
        "\n"
      ]
    },
    {
      "cell_type": "code",
      "metadata": {
        "id": "7SbhBEk_7Gcp"
      },
      "source": [
        "# Probiere hier aus, wie print funktioniert!\n"
      ],
      "execution_count": null,
      "outputs": []
    },
    {
      "cell_type": "markdown",
      "metadata": {
        "id": "sr2jRasB_WoP"
      },
      "source": [
        "# 2. Variablen / Datentypen\n",
        "\n",
        "Es gibt Variablen unterschiedlichen Typs. \n",
        "Die zwei gängigsten:\n",
        "\n",
        "\n",
        "*   Ganze Zahlen (Integer) und Fliesskommazahlen (Float) für Zahlen\n",
        "*   String für Buchstabenketten\n",
        "\n",
        "Es gibt eine Funktion, um den Wert einer Variable auszugeben. \n",
        "\n",
        "```\n",
        "meinInt = 42\n",
        "meinFloat = 3.14\n",
        "meinString = \"Die Antwort auf alle Fragen\"\n",
        "\n",
        "print(meinInt)\n",
        "type(meinInt)  #gibt den Typ der Variable aus \n",
        "```"
      ]
    },
    {
      "cell_type": "code",
      "metadata": {
        "id": "7ZBKu3AzxNhP"
      },
      "source": [
        "# Deklariere hier verschiedene Variablen.\n",
        "\n",
        "# Gib ihre Werte aus und prüfe, welchen Typ sie haben. "
      ],
      "execution_count": null,
      "outputs": []
    },
    {
      "cell_type": "markdown",
      "metadata": {
        "id": "NXHrDguUwjJ9"
      },
      "source": [
        "\n",
        "# 3. Mathematische Operatoren\n",
        "\n",
        "Variablen können mit Operatoren verbunden werden.\n",
        "\n",
        "Addition, Substraktion, Multiplikation, Division, ...\n",
        "```\n",
        "ergebnis = var1 + var2\n",
        "ergebnis = var1 / var2\n",
        "ergebnis = var1 * var2\n",
        "ergebnis = var 1 - var 2 * var1 / var2\n",
        "```\n"
      ]
    },
    {
      "cell_type": "code",
      "metadata": {
        "id": "T5280qS672CT"
      },
      "source": [
        "# Rechne mit verschiedenen Variablen. \n",
        "\n",
        "# Experimentiere: Was passiert, wenn du Strings subtrahierst? Oder Variablentypen mischst?"
      ],
      "execution_count": null,
      "outputs": []
    },
    {
      "cell_type": "markdown",
      "metadata": {
        "id": "XG3ZilTNBZnw"
      },
      "source": [
        "# Logische Operatoren\n",
        "\n",
        "Mit logischen Operatoren kann man zwei Werte vergleichen. Das Ergebnis ist \"True\" oder \"False\"\n",
        "\n",
        "Logische Operatoren:\n",
        "\n",
        "\n",
        "```\n",
        "a == b\n",
        "a != b  # a ungleich b\n",
        "a > b\n",
        "a < b\n",
        "a <= b\n",
        "a or b  # a ODER b\n",
        "```\n",
        "\n",
        "\n",
        "\n",
        "\n",
        "\n"
      ]
    },
    {
      "cell_type": "code",
      "metadata": {
        "id": "O1uDoMJZx1vd"
      },
      "source": [
        "# Deklariere mehrere Variablen und vergleiche sie mit logischen Operatoren!"
      ],
      "execution_count": null,
      "outputs": []
    },
    {
      "cell_type": "markdown",
      "metadata": {
        "id": "u4O6R2jqDJPv"
      },
      "source": [
        "# If - elif - else\n",
        "\n",
        "Mit der Kontrollstruktur if können wir eine Bedingung prüfen, und je nach dem unterschiedlich handeln. Der Operator \"not\" negiert die Bedingung. \n",
        "\n",
        "\n",
        "```\n",
        "if a > b:\n",
        "  print(a)\n",
        "elif a < b: \n",
        "  print(b)\n",
        "else:\n",
        "  print(\"vermutlich sind sie gleich\")\n",
        "\n",
        "if not a==b:\n",
        "  print(\"a und b sind ungleich!\")\n",
        "\n",
        "\n",
        "```\n",
        "\n"
      ]
    },
    {
      "cell_type": "code",
      "metadata": {
        "id": "bGOvFlrQEPOn"
      },
      "source": [
        "# Deklariere mehrere Variablen und vergleiche sie mit \"if\" \n"
      ],
      "execution_count": null,
      "outputs": []
    },
    {
      "cell_type": "markdown",
      "metadata": {
        "id": "JgruiCFUEkSY"
      },
      "source": [
        "# Weitere Variablen-Typen: Listen\n",
        "\n",
        "Listen enthalten mehrere Werte. \n",
        "\n",
        "Man kann auf einzelne Werte über einen Index zugreifen. Werte können geändert werden. In Python kann eine Liste gemischte Werte enthalten, z.B. Strings und Integers gemischt. (Das geht nicht in allen Programmiersprachen!)\n",
        "\n",
        "\n",
        "```\n",
        "myList = [2,5,23,98,55]\n",
        "gemischteListe = [\"hallo\",2,\"wort\",\"333\",12]\n",
        "\n",
        "einkaufszettel = [\"Butter\", \"Mehl\", \"Eier\"]\n",
        "einkaufszettel[0] = \"Obst\"\n",
        "einkaufszettel.append(\"Gemüse\")\n",
        "\n",
        "# prüfen, ob etwas in einer Liste ist\n",
        "\"Butter\" in einkaufszettel\n",
        "# wird gerne mit \"if\" kombiniert\n",
        "if \"Obst\" in einkaufszettel: \n",
        "\n",
        "# leere Liste\n",
        "eineNeueListe = []\n",
        "eineNeueListe.append(\"a\")\n",
        "eineNeueListe.append(11)\n",
        "\n",
        "# Funktionen auf Listen\n",
        "len(eineNeueListe) \n",
        "\n",
        "```\n",
        "\n"
      ]
    },
    {
      "cell_type": "code",
      "metadata": {
        "id": "bcwXDL70GG1A"
      },
      "source": [
        "# deklariere Listen. \n",
        "# Greife auf einzelne Elemente zu\n",
        "# verändere ihre Elemente, betrachte die Länge, ....\n",
        "\n"
      ],
      "execution_count": null,
      "outputs": []
    },
    {
      "cell_type": "markdown",
      "metadata": {
        "id": "UIyeJHFHKD6-"
      },
      "source": [
        "# Kontrollstruktur: Loop\n",
        "\n",
        "Mit einer Schleife kann man über die einzelnen Elemente von Listen iterieren. Es gibt unterschiedliche Arten von Schleifen. \n",
        "\n",
        "\n",
        "\n",
        "```\n",
        "for element in meineListe: \n",
        "  print(element)\n",
        "\n",
        "for i in range(10):\n",
        "  print(i)\n",
        "```\n",
        "\n"
      ]
    },
    {
      "cell_type": "code",
      "metadata": {
        "id": "E39P5GQzKbVx"
      },
      "source": [
        "# iteriere über deine oben angelegten Listen in verschiedener Weise. \n"
      ],
      "execution_count": null,
      "outputs": []
    },
    {
      "cell_type": "code",
      "metadata": {
        "id": "Lg7ZniNjMwDW"
      },
      "source": [
        "# Man kann auch über Strings iterieren! Probiere aus, wie das funktioniert!\n"
      ],
      "execution_count": null,
      "outputs": []
    },
    {
      "cell_type": "code",
      "metadata": {
        "id": "PS94AAGR1J4r"
      },
      "source": [
        "# Verschachtele zwei Schleifen ineinander! z.B. Beim Einkaufszettel: iteriere über die Produkte, und für jedes Produkt über die Buchstaben. \n"
      ],
      "execution_count": null,
      "outputs": []
    },
    {
      "cell_type": "code",
      "metadata": {
        "id": "yNKcTz3RRMA2"
      },
      "source": [
        "beliebigeZahlen = [3,6,2,1,8,5,9,4]\n",
        "# oft deklarieren wir vor einer Schleife eine Variable, die dann während jeder Iteration verändert wird. \n",
        "summe = 0\n",
        "for zahl in beliebigeZahlen:\n",
        "  summe = summe + zahl\n",
        "  print(summe)\n",
        "\n",
        "print(\"Endergebnis\")\n",
        "print(summe)"
      ],
      "execution_count": null,
      "outputs": []
    },
    {
      "cell_type": "code",
      "metadata": {
        "id": "Yqqt1figf96b"
      },
      "source": [
        "# Anwendungsbeispiel: Umbenennen von Urlaubsfotos\n",
        "\n",
        "meineBilder = [\"34101.jpg\", \"34102.jpg\", \"34103.jpg\", \"34104.jpg\", \"34105.jpg\", \"34106.jpg\"]\n",
        "neuBenannteBilder = []\n",
        "for bild in meineBilder:\n",
        "  print(bild)\n",
        "  neuerName = \"italien_\" + bild\n",
        "  neuBenannteBilder.append(neuerName)\n",
        "\n",
        "print(\"So heißen diese Bilder jetzt:\")\n",
        "for bild in neuBenannteBilder:\n",
        "  print(bild)"
      ],
      "execution_count": null,
      "outputs": []
    },
    {
      "cell_type": "markdown",
      "metadata": {
        "id": "Jh9siHO0MnSO"
      },
      "source": [
        "# Kombination von Kontrollstrukturen\n",
        "\n",
        "If-else und Schleifen können beliebig kombiniert werden"
      ]
    },
    {
      "cell_type": "markdown",
      "metadata": {
        "id": "7MIcmB31N-U5"
      },
      "source": [
        "### 1. Aufgabe:\n",
        "Schreibe ein Programm, das eine Liste mit Zahlen in zwei neue Listen aufteilt: Eine neue Liste enthält Zahlen, die kleiner 5 sind, die andere mit den restlichen Zahlen. \n",
        "\n",
        "\n",
        "```\n",
        "meineAusgangsListe = [3,6,2,1,8,5,9,4]\n",
        "\n",
        "```\n"
      ]
    },
    {
      "cell_type": "markdown",
      "metadata": {
        "id": "oCazOKPkNMCa"
      },
      "source": [
        "### 2. Aufgabe: \n",
        "\n",
        "*   Iteriere über den Einkaufszettel und drucke nur die Einträge, die ein \"r\" enthalten. \n",
        "*   Anstatt die Einträge auszugeben, speichere sie in eine neue Liste!\n",
        "\n",
        "\n",
        "\n",
        "\n"
      ]
    },
    {
      "cell_type": "code",
      "metadata": {
        "id": "9aZ6weiD1mi-"
      },
      "source": [
        ""
      ],
      "execution_count": null,
      "outputs": []
    },
    {
      "cell_type": "markdown",
      "metadata": {
        "id": "6RNNNPPBSRvy"
      },
      "source": [
        "### 3. Aufgabe: \n",
        "\n",
        "Schreibe ein Programm, das nur die Vokale eines Wortes ausgibt. \n",
        "Schöne Lösung: die Vokale sind nicht über mehrere Zeilen verteilt ausgegeben, sondern am Stück als ein Wort ;)\n",
        "\n",
        "Profiversion: Programm gibt nur Konsonanten aus!\n",
        "\n",
        "(Evtl. gemeinsam lösen)"
      ]
    },
    {
      "cell_type": "code",
      "metadata": {
        "id": "Mwe7brOrYzO4"
      },
      "source": [
        "\n",
        "\n"
      ],
      "execution_count": null,
      "outputs": []
    },
    {
      "cell_type": "markdown",
      "metadata": {
        "id": "KNSq42n8Cfdv"
      },
      "source": [
        "# Funktionen (functions)\n",
        "\n",
        "Funktionen helfen Programme zu strukturieren.\n",
        "Eine Funktion kapselt eine Abfolge von Befehlen und kann unter dem ihr zugewiesenen Namen aufgerufen werden. Sie besteht einem Namen, Argumente (0 oder n) und Rückgabewerten (0 oder n)\n",
        "Sie unterstützen somit die Wiederverwendbarkeit und tragen entscheidend zur Wartbarkeit eines Programms bei.\n"
      ]
    },
    {
      "cell_type": "code",
      "metadata": {
        "id": "SYGZ15wREDj7"
      },
      "source": [
        "#simple hallo funktion\n",
        "def halloFunktion():\n",
        "  print(\"Hallo!\")\n",
        "\n",
        "halloFunktion()\n",
        "\n",
        "def sagMeinenNamen(myName):\n",
        "    print(f\"Hallo {myName}\")\n",
        "\n",
        "sagMeinenNamen(\"Fred\")\n",
        "\n",
        "def addition(a, b):\n",
        "    c = a + b;\n",
        "    return c;\n",
        "\n",
        "additionErgebnis = addition(4, 6)\n",
        "additionErgebnis2 = addition(100, 1)\n",
        "print(additionErgebnis)\n",
        "print(additionErgebnis2)"
      ],
      "execution_count": null,
      "outputs": []
    },
    {
      "cell_type": "markdown",
      "metadata": {
        "id": "EzTDeYEz9la-"
      },
      "source": [
        "### Aufgabe: Schreibe eine Funktion, die Liste als Eingabeparameter nimmt und die Anzahl der Elemente ausgibt. "
      ]
    },
    {
      "cell_type": "code",
      "metadata": {
        "id": "qqswWEvt1pQg"
      },
      "source": [
        ""
      ],
      "execution_count": null,
      "outputs": []
    }
  ]
}